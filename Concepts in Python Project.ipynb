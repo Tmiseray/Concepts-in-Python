{
 "cells": [
  {
   "cell_type": "code",
   "execution_count": 1,
   "metadata": {},
   "outputs": [
    {
     "name": "stdout",
     "output_type": "stream",
     "text": [
      "1\n",
      "2\n",
      "3\n",
      "4\n"
     ]
    }
   ],
   "source": [
    "# While loops\n",
    "number = 1\n",
    "while number < 5:\n",
    "    print(number)\n",
    "    number += 1"
   ]
  },
  {
   "cell_type": "code",
   "execution_count": 3,
   "metadata": {},
   "outputs": [
    {
     "name": "stdout",
     "output_type": "stream",
     "text": [
      "30\n",
      "28\n",
      "26\n",
      "24\n",
      "22\n",
      "20\n",
      "18\n",
      "16\n",
      "While loop has ended\n"
     ]
    }
   ],
   "source": [
    "counter = 30\n",
    "while counter > 15:\n",
    "    print(counter)\n",
    "    counter -= 2\n",
    "\n",
    "print('While loop has ended')"
   ]
  },
  {
   "cell_type": "code",
   "execution_count": 1,
   "metadata": {},
   "outputs": [
    {
     "name": "stdout",
     "output_type": "stream",
     "text": [
      "Audi\n",
      "VW\n",
      "Jaguar\n",
      "Bentley\n"
     ]
    }
   ],
   "source": [
    "# For loops\n",
    "cars = ['Audi', 'VW', 'Jaguar', 'Bentley']\n",
    "for x in cars:\n",
    "    print(x)"
   ]
  },
  {
   "cell_type": "code",
   "execution_count": 2,
   "metadata": {},
   "outputs": [
    {
     "name": "stdout",
     "output_type": "stream",
     "text": [
      "2\n",
      "4\n",
      "6\n",
      "8\n",
      "10\n",
      "12\n"
     ]
    }
   ],
   "source": [
    "numbers = [1, 2, 3, 4, 5, 6]\n",
    "for num in numbers:\n",
    "    print(num*2)"
   ]
  },
  {
   "cell_type": "code",
   "execution_count": 3,
   "metadata": {},
   "outputs": [
    {
     "name": "stdout",
     "output_type": "stream",
     "text": [
      "1\n",
      "2\n",
      "3\n",
      "4\n",
      "5\n"
     ]
    }
   ],
   "source": [
    "# Else loops\n",
    "numbers = [1, 2, 3, 4, 5, 6]\n",
    "for num in numbers:\n",
    "    print(num)\n",
    "    if num == 5:\n",
    "        break\n",
    "\n",
    "else:\n",
    "    print('Number was not found')"
   ]
  },
  {
   "cell_type": "code",
   "execution_count": 4,
   "metadata": {},
   "outputs": [
    {
     "name": "stdout",
     "output_type": "stream",
     "text": [
      "1\n",
      "2\n",
      "3\n",
      "4\n",
      "5\n",
      "6\n",
      "Number was not found\n"
     ]
    }
   ],
   "source": [
    "for num in numbers:\n",
    "    print(num)\n",
    "    if num == 7:\n",
    "        break\n",
    "\n",
    "else:\n",
    "    print('Number was not found')"
   ]
  },
  {
   "cell_type": "code",
   "execution_count": 5,
   "metadata": {},
   "outputs": [
    {
     "name": "stdout",
     "output_type": "stream",
     "text": [
      "1\n",
      "Inside the for loop\n",
      "2\n",
      "Inside the for loop\n",
      "3\n",
      "Inside the for loop\n",
      "4\n",
      "Inside the for loop\n",
      "5\n"
     ]
    }
   ],
   "source": [
    "# Loop control statements\n",
    "numbers = [1, 2, 3, 4, 5, 6]\n",
    "for num in numbers:\n",
    "    print(num)\n",
    "    if num == 5:\n",
    "        break\n",
    "    print('Inside the for loop')\n",
    "else:\n",
    "    print('Outside the for loop')"
   ]
  },
  {
   "cell_type": "code",
   "execution_count": 6,
   "metadata": {},
   "outputs": [
    {
     "name": "stdout",
     "output_type": "stream",
     "text": [
      "1\n",
      "Inside the for loop\n",
      "2\n",
      "Inside the for loop\n",
      "3\n",
      "Inside the for loop\n",
      "4\n",
      "Inside the for loop\n",
      "5\n",
      "Inside the for loop\n",
      "6\n",
      "Inside the for loop\n",
      "Outside the for loop\n"
     ]
    }
   ],
   "source": [
    "numbers = [1, 2, 3, 4, 5, 6]\n",
    "for num in numbers:\n",
    "    print(num)\n",
    "    if num == 7:\n",
    "        break\n",
    "    print('Inside the for loop')\n",
    "else:\n",
    "    print('Outside the for loop')"
   ]
  },
  {
   "cell_type": "code",
   "execution_count": 7,
   "metadata": {},
   "outputs": [
    {
     "name": "stdout",
     "output_type": "stream",
     "text": [
      "Audi\n",
      "VW\n",
      "Jaguar\n"
     ]
    }
   ],
   "source": [
    "for car in cars:\n",
    "    print(car)\n",
    "    if car == 'Jaguar':\n",
    "        break"
   ]
  },
  {
   "cell_type": "code",
   "execution_count": 8,
   "metadata": {},
   "outputs": [
    {
     "name": "stdout",
     "output_type": "stream",
     "text": [
      "Audi\n",
      "VW\n"
     ]
    }
   ],
   "source": [
    "for car in cars:\n",
    "    if car == 'Jaguar':\n",
    "        break\n",
    "    print(car)"
   ]
  },
  {
   "cell_type": "code",
   "execution_count": 9,
   "metadata": {},
   "outputs": [
    {
     "name": "stdout",
     "output_type": "stream",
     "text": [
      "Audi\n",
      "VW\n",
      "Bentley\n"
     ]
    }
   ],
   "source": [
    "for car in cars:\n",
    "    if car == 'Jaguar':\n",
    "        continue\n",
    "    print(car)"
   ]
  },
  {
   "cell_type": "code",
   "execution_count": 14,
   "metadata": {},
   "outputs": [
    {
     "name": "stdout",
     "output_type": "stream",
     "text": [
      "1\n",
      "2\n",
      "3\n",
      "4\n",
      "5\n",
      "Number needs to be skipped\n",
      "7\n",
      "8\n",
      "9\n",
      "10\n"
     ]
    }
   ],
   "source": [
    "counter = [1, 2, 3, 4, 5, 6, 7, 8, 9, 10]\n",
    "for count in counter:\n",
    "    if count == 6:\n",
    "        print('Number needs to be skipped')\n",
    "        continue\n",
    "    print(count)"
   ]
  },
  {
   "cell_type": "code",
   "execution_count": 15,
   "metadata": {},
   "outputs": [
    {
     "name": "stdout",
     "output_type": "stream",
     "text": [
      "2\n",
      "4\n",
      "6\n",
      "8\n",
      "10\n"
     ]
    }
   ],
   "source": [
    "for count in counter:\n",
    "    if count % 2:\n",
    "        pass\n",
    "    else:print(count)"
   ]
  },
  {
   "cell_type": "code",
   "execution_count": 16,
   "metadata": {},
   "outputs": [
    {
     "name": "stdout",
     "output_type": "stream",
     "text": [
      "1\n",
      "a\n",
      "b\n",
      "c\n",
      "2\n",
      "a\n",
      "b\n",
      "c\n",
      "3\n",
      "a\n",
      "b\n",
      "c\n"
     ]
    }
   ],
   "source": [
    "# Nested loops\n",
    "numbers = [1, 2, 3]\n",
    "letters = ['a', 'b', 'c']\n",
    "for number in numbers:\n",
    "    print(number)\n",
    "    for letter in letters:\n",
    "        print(letter)"
   ]
  },
  {
   "cell_type": "code",
   "execution_count": 17,
   "metadata": {},
   "outputs": [
    {
     "name": "stdout",
     "output_type": "stream",
     "text": [
      "1 a\n",
      "1 b\n",
      "1 c\n",
      "2 a\n",
      "2 b\n",
      "2 c\n",
      "3 a\n",
      "3 b\n",
      "3 c\n"
     ]
    }
   ],
   "source": [
    "for number in numbers:\n",
    "    for letter in letters:\n",
    "        print(number, letter)"
   ]
  },
  {
   "cell_type": "code",
   "execution_count": 18,
   "metadata": {},
   "outputs": [
    {
     "name": "stdout",
     "output_type": "stream",
     "text": [
      "My name is: Taylor\n"
     ]
    }
   ],
   "source": [
    "# Functions\n",
    "def print_name(name):\n",
    "    print('My name is: ' + name)\n",
    "\n",
    "print_name('Taylor')"
   ]
  },
  {
   "cell_type": "code",
   "execution_count": 19,
   "metadata": {},
   "outputs": [
    {
     "name": "stdout",
     "output_type": "stream",
     "text": [
      "My name is: Taylor Miseray\n"
     ]
    }
   ],
   "source": [
    "def print_name(first_name, last_name):\n",
    "    print('My name is: ' + first_name + ' ' + last_name)\n",
    "\n",
    "print_name('Taylor', 'Miseray')"
   ]
  },
  {
   "cell_type": "code",
   "execution_count": 21,
   "metadata": {},
   "outputs": [
    {
     "name": "stdout",
     "output_type": "stream",
     "text": [
      "My name is: Taylor Miseray. My age is: 31\n"
     ]
    }
   ],
   "source": [
    "def about_me(first_name, last_name, age):\n",
    "    print('My name is: ' + first_name + ' ' + last_name + '. My age is: ' + str(age))\n",
    "\n",
    "about_me('Taylor', 'Miseray', 31)\n"
   ]
  },
  {
   "cell_type": "code",
   "execution_count": 22,
   "metadata": {},
   "outputs": [
    {
     "name": "stdout",
     "output_type": "stream",
     "text": [
      "My name is: Taylor\n"
     ]
    }
   ],
   "source": [
    "def about_me(first_name = 'Taylor'):\n",
    "    print('My name is: ' + first_name)\n",
    "\n",
    "about_me()"
   ]
  },
  {
   "cell_type": "code",
   "execution_count": 23,
   "metadata": {},
   "outputs": [
    {
     "name": "stdout",
     "output_type": "stream",
     "text": [
      "Result = 6\n"
     ]
    }
   ],
   "source": [
    "# Return statements\n",
    "def multiply(num1, num2):\n",
    "    return num1 * num2\n",
    "\n",
    "result = multiply(2, 3)\n",
    "print('Result = {}'.format(result))"
   ]
  },
  {
   "cell_type": "code",
   "execution_count": 24,
   "metadata": {},
   "outputs": [
    {
     "name": "stdout",
     "output_type": "stream",
     "text": [
      "Hello Taylor\n"
     ]
    }
   ],
   "source": [
    "def greeting(name):\n",
    "    return 'Hello ' + name\n",
    "\n",
    "result = greeting('Taylor')\n",
    "print(result)"
   ]
  },
  {
   "cell_type": "code",
   "execution_count": 25,
   "metadata": {},
   "outputs": [
    {
     "name": "stdout",
     "output_type": "stream",
     "text": [
      "['Taylor', 31, 0]\n"
     ]
    }
   ],
   "source": [
    "def about_me():\n",
    "    name = 'Taylor'\n",
    "    age = 31\n",
    "    children = 0\n",
    "    return[name, age, children]\n",
    "\n",
    "list_result = about_me()\n",
    "print(list_result)"
   ]
  },
  {
   "cell_type": "code",
   "execution_count": null,
   "metadata": {},
   "outputs": [],
   "source": []
  }
 ],
 "metadata": {
  "kernelspec": {
   "display_name": "base",
   "language": "python",
   "name": "python3"
  },
  "language_info": {
   "codemirror_mode": {
    "name": "ipython",
    "version": 3
   },
   "file_extension": ".py",
   "mimetype": "text/x-python",
   "name": "python",
   "nbconvert_exporter": "python",
   "pygments_lexer": "ipython3",
   "version": "3.11.5"
  }
 },
 "nbformat": 4,
 "nbformat_minor": 2
}
